{
  "nbformat": 4,
  "nbformat_minor": 0,
  "metadata": {
    "colab": {
      "provenance": []
    },
    "kernelspec": {
      "name": "python3",
      "display_name": "Python 3"
    },
    "language_info": {
      "name": "python"
    }
  },
  "cells": [
    {
      "cell_type": "code",
      "execution_count": 1,
      "metadata": {
        "colab": {
          "base_uri": "https://localhost:8080/"
        },
        "id": "DgxjN-XbaEdT",
        "outputId": "5e670db3-232d-4e49-8625-648476571792"
      },
      "outputs": [
        {
          "output_type": "stream",
          "name": "stdout",
          "text": [
            "Enter board sizes: 5 6\n",
            "\n",
            "Solving for N=5\n",
            ". . . . Q\n",
            ". . Q . .\n",
            "Q . . . .\n",
            ". . . Q .\n",
            ". Q . . .\n",
            "\n",
            "Solving for N=6\n",
            ". . Q . . .\n",
            ". . . . . Q\n",
            ". Q . . . .\n",
            ". . . . Q .\n",
            "Q . . . . .\n",
            ". . . Q . .\n"
          ]
        }
      ],
      "source": [
        "import random\n",
        "\n",
        "# Count conflicts for each queen's position\n",
        "def count_conflicts(board, n):\n",
        "    return [sum(board[i] == board[j] or abs(board[i] - board[j]) == abs(i - j) for j in range(n) if i != j) for i in range(n)]\n",
        "\n",
        "# Find optimal column for a queen in a given row\n",
        "def best_column(board, row, n):\n",
        "    options = [(col, sum(count_conflicts(board[:row] + [col] + board[row+1:], n))) for col in range(n) if col != board[row]]\n",
        "    return min(options, key=lambda x: x[1])[0] if options else board[row]\n",
        "\n",
        "# Solve N-Queens using local search\n",
        "def solve_n_queens(n, retries=10, steps=1000):\n",
        "    for _ in range(retries):\n",
        "        # Start with a random board\n",
        "        board = [random.randint(0, n - 1) for _ in range(n)]\n",
        "\n",
        "        for _ in range(steps):\n",
        "            conflicts = count_conflicts(board, n)\n",
        "\n",
        "            # If no conflicts, return the solution\n",
        "            if not sum(conflicts):\n",
        "                return board\n",
        "\n",
        "            # Select a row with the maximum conflicts\n",
        "            row = random.choice([i for i in range(n) if conflicts[i] == max(conflicts)])\n",
        "\n",
        "            # Move the queen in that row to the best column\n",
        "            board[row] = best_column(board, row, n)\n",
        "\n",
        "    return None\n",
        "\n",
        "# Display the chessboard\n",
        "def render_board(board):\n",
        "    print(\"No solution\" if not board else \"\\n\".join(\" \".join('Q' if board[r] == c else '.' for c in range(len(board))) for r in range(len(board))))\n",
        "\n",
        "# Main execution\n",
        "if __name__ == \"__main__\":  # Corrected __name__ condition\n",
        "    for n in map(int, input(\"Enter board sizes: \").split()):\n",
        "        print(f\"\\nSolving for N={n}\")\n",
        "        render_board(solve_n_queens(n))\n"
      ]
    }
  ]
}